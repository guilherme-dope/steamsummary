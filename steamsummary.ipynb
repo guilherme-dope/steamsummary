{
 "cells": [
  {
   "cell_type": "markdown",
   "metadata": {},
   "source": [
    "### Rzrdxpx's Steam Summary Inventory Price Auto Updater"
   ]
  },
  {
   "cell_type": "code",
   "execution_count": 4,
   "metadata": {},
   "outputs": [],
   "source": [
    "import selenium\n",
    "from selenium import webdriver\n",
    "from selenium.webdriver.chrome.service import Service\n",
    "from selenium.webdriver.common.by import By\n",
    "from selenium.webdriver.common.keys import Keys\n",
    "import time"
   ]
  },
  {
   "cell_type": "code",
   "execution_count": 8,
   "metadata": {},
   "outputs": [
    {
     "name": "stdout",
     "output_type": "stream",
     "text": [
      "Steam Community :: DOPE\n",
      "Inventory Price: $238.83 USD - Feb 11 2024\n"
     ]
    }
   ],
   "source": [
    "service = Service(executable_path=\"CD/chromedriver.exe\")\n",
    "driver = webdriver.Chrome(service=service)\n",
    "\n",
    "driver.get(\"https://steamcommunity.com/id/skdope/\")\n",
    "print(driver.title)\n",
    "\n",
    "input_element = driver.find_element(By.CLASS_NAME, \"bb_h1\")\n",
    "print(input_element.text)\n",
    "\n",
    "# time.sleep(5)\n",
    "\n",
    "# driver.quit()"
   ]
  },
  {
   "cell_type": "code",
   "execution_count": 1,
   "metadata": {},
   "outputs": [],
   "source": [
    "from selenium import webdriver\n",
    "import csv\n",
    "\n",
    "def read_cookies_from_csv(file_path):\n",
    "    cookies = []\n",
    "    with open(file_path, newline='', encoding='utf-8') as csvfile:\n",
    "        reader = csv.DictReader(csvfile)\n",
    "        for row in reader:\n",
    "            cookie = {\n",
    "                'name': row['Name'],\n",
    "                'value': row['Value'],\n",
    "                'domain': row['Domain']\n",
    "            }\n",
    "            cookies.append(cookie)\n",
    "    return cookies\n",
    "\n",
    "driver = webdriver.Chrome()\n",
    "\n",
    "driver.get(\"https://steamcommunity.com\")\n",
    "\n",
    "cookies = read_cookies_from_csv('cookies.csv')\n",
    "\n",
    "for cookie in cookies:\n",
    "    driver.add_cookie(cookie)\n",
    "\n",
    "driver.refresh()\n",
    "driver.get(\"https://steamcommunity.com/id/skdope/edit/info\")\n",
    "\n"
   ]
  }
 ],
 "metadata": {
  "kernelspec": {
   "display_name": "Python 3",
   "language": "python",
   "name": "python3"
  },
  "language_info": {
   "codemirror_mode": {
    "name": "ipython",
    "version": 3
   },
   "file_extension": ".py",
   "mimetype": "text/x-python",
   "name": "python",
   "nbconvert_exporter": "python",
   "pygments_lexer": "ipython3",
   "version": "3.12.2"
  }
 },
 "nbformat": 4,
 "nbformat_minor": 2
}
