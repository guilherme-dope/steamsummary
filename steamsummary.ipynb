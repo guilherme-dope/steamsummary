{
 "cells": [
  {
   "cell_type": "markdown",
   "metadata": {},
   "source": [
    "### Rzrdxpx's Steam Summary Inventory Price Auto Updater"
   ]
  },
  {
   "cell_type": "code",
   "execution_count": 12,
   "metadata": {},
   "outputs": [],
   "source": [
    "import selenium\n",
    "from selenium import webdriver\n",
    "from selenium.webdriver.chrome.service import Service\n",
    "from selenium.webdriver.common.by import By\n",
    "from selenium.webdriver.common.keys import Keys\n",
    "from selenium import webdriver\n",
    "import time\n",
    "import csv"
   ]
  },
  {
   "cell_type": "code",
   "execution_count": 10,
   "metadata": {},
   "outputs": [
    {
     "ename": "NameError",
     "evalue": "name 'Service' is not defined",
     "output_type": "error",
     "traceback": [
      "\u001b[1;31m---------------------------------------------------------------------------\u001b[0m",
      "\u001b[1;31mNameError\u001b[0m                                 Traceback (most recent call last)",
      "Cell \u001b[1;32mIn[10], line 1\u001b[0m\n\u001b[1;32m----> 1\u001b[0m service \u001b[38;5;241m=\u001b[39m \u001b[43mService\u001b[49m(executable_path\u001b[38;5;241m=\u001b[39m\u001b[38;5;124m\"\u001b[39m\u001b[38;5;124mCD/chromedriver.exe\u001b[39m\u001b[38;5;124m\"\u001b[39m)\n\u001b[0;32m      2\u001b[0m driver \u001b[38;5;241m=\u001b[39m webdriver\u001b[38;5;241m.\u001b[39mChrome(service\u001b[38;5;241m=\u001b[39mservice)\n\u001b[0;32m      3\u001b[0m \u001b[38;5;28;01mfrom\u001b[39;00m \u001b[38;5;21;01mselenium\u001b[39;00m \u001b[38;5;28;01mimport\u001b[39;00m webdriver\n",
      "\u001b[1;31mNameError\u001b[0m: name 'Service' is not defined"
     ]
    }
   ],
   "source": [
    "service = Service(executable_path=\"CD/chromedriver.exe\")\n",
    "driver = webdriver.Chrome(service=service)\n",
    "\n",
    "\n",
    "# driver.get(\"https://steamcommunity.com/id/skdope/\")\n",
    "# print(driver.title)\n",
    "\n",
    "# input_element = driver.find_element(By.CLASS_NAME, \"bb_h1\")\n",
    "# print(input_element.text)\n",
    "\n",
    "# # time.sleep(5)\n",
    "\n",
    "# # driver.quit()"
   ]
  },
  {
   "cell_type": "code",
   "execution_count": 18,
   "metadata": {},
   "outputs": [
    {
     "name": "stdout",
     "output_type": "stream",
     "text": [
      "[h1] Inventory Price: $Testing USD - Feb 11 2024 [/h1]\n"
     ]
    }
   ],
   "source": [
    "def read_cookies_from_csv(file_path):\n",
    "    cookies = []\n",
    "    with open(file_path, newline='', encoding='utf-8') as csvfile:\n",
    "        reader = csv.DictReader(csvfile)\n",
    "        for row in reader:\n",
    "            cookie = {\n",
    "                'name': row['Name'],\n",
    "                'value': row['Value'],\n",
    "                'domain': row['Domain']\n",
    "            }\n",
    "            cookies.append(cookie)\n",
    "    return cookies\n",
    "\n",
    "driver = webdriver.Chrome()\n",
    "\n",
    "driver.get(\"https://steamcommunity.com\")\n",
    "\n",
    "cookies = read_cookies_from_csv('cookies.csv')\n",
    "\n",
    "for cookie in cookies:\n",
    "    driver.add_cookie(cookie)\n",
    "\n",
    "driver.refresh()\n",
    "driver.get(\"https://steamcommunity.com/id/skdope/edit/info\")\n",
    "\n",
    "summarybox = driver.find_element(By.XPATH, '//*[@id=\"react_root\"]/div[3]/div[2]/form/div[5]/div[2]/textarea')\n",
    "print(summarybox.text)\n",
    "\n",
    "summarybox.clear()\n",
    "summarybox.send_keys(\"Inventory Price: $238.83 USD - Feb 11 2024\")\n",
    "\n",
    "save = driver.find_element(By.XPATH, '//*[@id=\"react_root\"]/div[3]/div[2]/form/div[7]/button[1]')\n",
    "save.click()"
   ]
  },
  {
   "cell_type": "code",
   "execution_count": null,
   "metadata": {},
   "outputs": [],
   "source": []
  }
 ],
 "metadata": {
  "kernelspec": {
   "display_name": "Python 3",
   "language": "python",
   "name": "python3"
  },
  "language_info": {
   "codemirror_mode": {
    "name": "ipython",
    "version": 3
   },
   "file_extension": ".py",
   "mimetype": "text/x-python",
   "name": "python",
   "nbconvert_exporter": "python",
   "pygments_lexer": "ipython3",
   "version": "3.12.2"
  }
 },
 "nbformat": 4,
 "nbformat_minor": 2
}
