{
 "cells": [
  {
   "cell_type": "markdown",
   "metadata": {},
   "source": [
    "### Rzrdxpx's Steam Summary Inventory Price Auto Updater"
   ]
  },
  {
   "cell_type": "code",
   "execution_count": 12,
   "metadata": {},
   "outputs": [],
   "source": [
    "import selenium\n",
    "from selenium import webdriver\n",
    "from selenium.webdriver.chrome.service import Service\n",
    "from selenium.webdriver.common.by import By\n",
    "from selenium.webdriver.common.keys import Keys\n",
    "from selenium import webdriver\n",
    "import time\n",
    "import csv"
   ]
  },
  {
   "cell_type": "code",
   "execution_count": 23,
   "metadata": {},
   "outputs": [
    {
     "name": "stdout",
     "output_type": "stream",
     "text": [
      "999\n"
     ]
    }
   ],
   "source": [
    "invprice = \"999\"\n",
    "print(invprice)"
   ]
  },
  {
   "cell_type": "code",
   "execution_count": 24,
   "metadata": {},
   "outputs": [
    {
     "name": "stdout",
     "output_type": "stream",
     "text": [
      "Fauno Testing\n"
     ]
    }
   ],
   "source": [
    "def read_cookies_from_csv(file_path):\n",
    "    cookies = []\n",
    "    with open(file_path, newline='', encoding='utf-8') as csvfile:\n",
    "        reader = csv.DictReader(csvfile)\n",
    "        for row in reader:\n",
    "            cookie = {\n",
    "                'name': row['Name'],\n",
    "                'value': row['Value'],\n",
    "                'domain': row['Domain']\n",
    "            }\n",
    "            cookies.append(cookie)\n",
    "    return cookies\n",
    "\n",
    "driver = webdriver.Chrome()\n",
    "\n",
    "driver.get(\"https://steamcommunity.com\")\n",
    "\n",
    "cookies = read_cookies_from_csv('cookies.csv')\n",
    "\n",
    "for cookie in cookies:\n",
    "    driver.add_cookie(cookie)\n",
    "\n",
    "driver.refresh()\n",
    "driver.get(\"https://steamcommunity.com/id/skdope/edit/info\")\n",
    "\n",
    "summarybox = driver.find_element(By.XPATH, '//*[@id=\"react_root\"]/div[3]/div[2]/form/div[5]/div[2]/textarea')\n",
    "print(summarybox.text)\n",
    "\n",
    "summarybox.clear()\n",
    "summarybox.send_keys(f\"Inventory Price: ${invprice} USD - Feb 11 2024\")\n",
    "\n",
    "save = driver.find_element(By.XPATH, '//*[@id=\"react_root\"]/div[3]/div[2]/form/div[7]/button[1]')\n",
    "save.click()\n",
    "\n",
    "\n",
    "\n",
    "time.sleep(5)\n",
    "driver.quit()"
   ]
  }
 ],
 "metadata": {
  "kernelspec": {
   "display_name": "Python 3",
   "language": "python",
   "name": "python3"
  },
  "language_info": {
   "codemirror_mode": {
    "name": "ipython",
    "version": 3
   },
   "file_extension": ".py",
   "mimetype": "text/x-python",
   "name": "python",
   "nbconvert_exporter": "python",
   "pygments_lexer": "ipython3",
   "version": "3.12.2"
  }
 },
 "nbformat": 4,
 "nbformat_minor": 2
}
